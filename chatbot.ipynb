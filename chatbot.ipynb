{
  "nbformat": 4,
  "nbformat_minor": 0,
  "metadata": {
    "colab": {
      "name": "chatbot.ipynb",
      "provenance": [],
      "collapsed_sections": [],
      "authorship_tag": "ABX9TyNqNKKitRsXsDtMe5kGbTjb",
      "include_colab_link": true
    },
    "kernelspec": {
      "name": "python3",
      "display_name": "Python 3"
    },
    "language_info": {
      "name": "python"
    }
  },
  "cells": [
    {
      "cell_type": "markdown",
      "metadata": {
        "id": "view-in-github",
        "colab_type": "text"
      },
      "source": [
        "<a href=\"https://colab.research.google.com/github/cyber-mery/michael-scott-chatbot/blob/main/chatbot.ipynb\" target=\"_parent\"><img src=\"https://colab.research.google.com/assets/colab-badge.svg\" alt=\"Open In Colab\"/></a>"
      ]
    },
    {
      "cell_type": "code",
      "execution_count": 2,
      "metadata": {
        "id": "7fxoA_9hBBDM",
        "colab": {
          "base_uri": "https://localhost:8080/"
        },
        "outputId": "40e6b972-a49c-4e7d-b4a3-6dab2f21eb8a"
      },
      "outputs": [
        {
          "output_type": "stream",
          "name": "stdout",
          "text": [
            "Mounted at /content/drive\n"
          ]
        }
      ],
      "source": [
        "#import dataset file\n",
        "from google.colab import drive\n",
        "drive.mount('/content/drive')"
      ]
    },
    {
      "cell_type": "code",
      "source": [
        "#change the current directory => go to My Drive \n",
        "#use os (operating system) module\n",
        "import os\n",
        "os.chdir('/content/drive/My Drive')"
      ],
      "metadata": {
        "id": "OTxXUkVAdV-N"
      },
      "execution_count": 5,
      "outputs": []
    },
    {
      "cell_type": "code",
      "source": [
        "#check My drive: we need the-office_lines file \n",
        "!ls"
      ],
      "metadata": {
        "id": "VGHGIoI7ecQX",
        "outputId": "39e66573-9b57-43be-ab00-2a2595adfe1f",
        "colab": {
          "base_uri": "https://localhost:8080/"
        }
      },
      "execution_count": 7,
      "outputs": [
        {
          "output_type": "stream",
          "name": "stdout",
          "text": [
            " BenFadhel.doc\t\t\t\t\t    Font.txt\n",
            " Brand.svg\t\t\t\t\t    Icons\n",
            " certif.pdf\t\t\t\t\t    mbf.pdf\n",
            "'Colab Notebooks'\t\t\t\t    mypicc.jpg\n",
            " color-palettes.png\t\t\t\t    rapport.pdf\n",
            "'correction série 2 ex 3,4 et 5.pdf'\t\t    SeanceTxTD.mp4\n",
            " CoursBDD\t\t\t\t\t   'série 3 ACM.pdf'\n",
            " Design.png\t\t\t\t\t    the-office_lines.csv\n",
            " dsc_hero_720.jpg\t\t\t\t    Transmission\n",
            " english_test_net_100_toefl_preparation_tests.pdf   video.mp4\n",
            " Enreg-TLC\n"
          ]
        }
      ]
    },
    {
      "cell_type": "code",
      "source": [
        "#import re module (regular expression) and pandas\n",
        "import pandas as pd\n",
        "import re"
      ],
      "metadata": {
        "id": "yiUV_t3_eshd"
      },
      "execution_count": null,
      "outputs": []
    }
  ]
}